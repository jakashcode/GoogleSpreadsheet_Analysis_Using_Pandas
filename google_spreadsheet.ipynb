{
 "cells": [
  {
   "cell_type": "markdown",
   "metadata": {},
   "source": [
    "googlespreadsheet@euphoric-patrol-254220.iam.gserviceaccount.com"
   ]
  },
  {
   "cell_type": "markdown",
   "metadata": {},
   "source": [
    "#Spreadsheet Working Link"
   ]
  },
  {
   "cell_type": "markdown",
   "metadata": {},
   "source": [
    "https://docs.google.com/spreadsheets/d/18Sdz5vfzRpb4loYYf74OsnFk7yEVdpsoxa1R6YQUbdc/edit?usp=sharing"
   ]
  },
  {
   "cell_type": "markdown",
   "metadata": {},
   "source": [
    "#Google form link"
   ]
  },
  {
   "cell_type": "markdown",
   "metadata": {},
   "source": [
    "https://docs.google.com/forms/d/e/1FAIpQLSee9f4fimgkkbAg1RmBrlOmKtB3iQz9l5iDeQP1gPKY6nLgoQ/viewform?vc=0&c=0&w=1"
   ]
  },
  {
   "cell_type": "code",
   "execution_count": 188,
   "metadata": {},
   "outputs": [
    {
     "name": "stdout",
     "output_type": "stream",
     "text": [
      "Assessment.csv\n",
      "Assessment.csv.zip\n",
      "Attrition.ipynb\n",
      "Build a workflow of predictive attrition model.docx\n",
      "My Google Spreadsheets-865821355e58.json\n",
      "Untitled.ipynb\n",
      "WA_Fn-UseC_-HR-Employee-Attrition.csv\n",
      "google_spreadsheet.ipynb\n",
      "quickstart.py.ipynb\n",
      "token.pickle\n"
     ]
    }
   ],
   "source": [
    "!ls"
   ]
  },
  {
   "cell_type": "code",
   "execution_count": 109,
   "metadata": {},
   "outputs": [
    {
     "name": "stdout",
     "output_type": "stream",
     "text": [
      "            Timestamp Score Name of Candidate Email Address of Candidate    \\\n",
      "0  9/24/2019 21:20:42                   Vikas                xyz@gmail.com   \n",
      "1  9/27/2019 18:22:02           Pranav Kapoor       pranavkapoor@gmail.com   \n",
      "2  9/27/2019 18:23:28            Prateek Garg       prateek_garg@gmail.com   \n",
      "\n",
      "  Candidate Performance Rating Python knowledge on a scale of 1-10  \\\n",
      "0                    Excellent                                   7   \n",
      "1                  Outstanding                                  10   \n",
      "2                          Low                                  10   \n",
      "\n",
      "   Candidate personality Education  SQL knowledge on a scale 1-10  \\\n",
      "0                   Good    College                             7   \n",
      "1                   Best     Master                            10   \n",
      "2                   Good    College                             2   \n",
      "\n",
      "  Knowledge of Programming Languages. Select all applicable.  \\\n",
      "0                                  Python, Java, SQL           \n",
      "1                                        Python, SQL           \n",
      "2                                           C++, SQL           \n",
      "\n",
      "  Data Structures and Algorithms knowedge on sacle 1-10  \\\n",
      "0                                                  9      \n",
      "1                                                 10      \n",
      "2                                                  6      \n",
      "\n",
      "  Knowledge of ML libraries. Select all options which are applicable.  \\\n",
      "0       Sckitlearn, Pandas, Scipy, NumPy, MatPlotlib                    \n",
      "1                                  Scipy, MatPlotlib                    \n",
      "2                                              Scipy                    \n",
      "\n",
      "  Knowledge of Neural Networks on a scale of 1-10  \\\n",
      "0                                              10   \n",
      "1                                              10   \n",
      "2                                               6   \n",
      "\n",
      "  Knowledge of Neural Networks Architectures? Select all applicable.  \\\n",
      "0                                               LSTM                   \n",
      "1                                            RNN, NN                   \n",
      "2                                          RNN, LSTM                   \n",
      "\n",
      "  Total Experience of Candidate  \\\n",
      "0                             1   \n",
      "1                             4   \n",
      "2                             8   \n",
      "\n",
      "  Knowledge of DeepLearning Frameworks? Select all applicable.  \n",
      "0                         Tensorflow, Pytorch, Keras            \n",
      "1                                         Tensorflow            \n",
      "2                                         Tensorflow            \n"
     ]
    }
   ],
   "source": [
    "import gspread\n",
    "from oauth2client.service_account import ServiceAccountCredentials\n",
    "import pandas as pd\n",
    "\n",
    "scope = ['https://spreadsheets.google.com/feeds',\n",
    "         'https://www.googleapis.com/auth/drive']\n",
    "\n",
    "credentials = ServiceAccountCredentials.from_json_keyfile_name(\n",
    "         'My Google Spreadsheets-865821355e58.json', scope) # Your json file here\n",
    "\n",
    "gc = gspread.authorize(credentials)\n",
    "\n",
    "wks = gc.open(\"candidate_evaluation\").sheet1\n",
    "\n",
    "data = wks.get_all_values()\n",
    "headers = data.pop(0)\n",
    "\n",
    "df = pd.DataFrame(data, columns=headers)\n",
    "print(df.head())"
   ]
  },
  {
   "cell_type": "code",
   "execution_count": 110,
   "metadata": {},
   "outputs": [
    {
     "name": "stdout",
     "output_type": "stream",
     "text": [
      "<class 'pandas.core.frame.DataFrame'>\n",
      "RangeIndex: 3 entries, 0 to 2\n",
      "Data columns (total 16 columns):\n",
      "Timestamp                                                              3 non-null object\n",
      "Score                                                                  3 non-null object\n",
      "Name of Candidate                                                      3 non-null object\n",
      "Email Address of Candidate                                             3 non-null object\n",
      "Candidate Performance Rating                                           3 non-null object\n",
      "Python knowledge on a scale of 1-10                                    3 non-null object\n",
      " Candidate personality                                                 3 non-null object\n",
      "Education                                                              3 non-null object\n",
      "SQL knowledge on a scale 1-10                                          3 non-null object\n",
      "Knowledge of Programming Languages. Select all applicable.             3 non-null object\n",
      "Data Structures and Algorithms knowedge on sacle 1-10                  3 non-null object\n",
      "Knowledge of ML libraries. Select all options which are applicable.    3 non-null object\n",
      "Knowledge of Neural Networks on a scale of 1-10                        3 non-null object\n",
      "Knowledge of Neural Networks Architectures? Select all applicable.     3 non-null object\n",
      "Total Experience of Candidate                                          3 non-null object\n",
      "Knowledge of DeepLearning Frameworks? Select all applicable.           3 non-null object\n",
      "dtypes: object(16)\n",
      "memory usage: 464.0+ bytes\n"
     ]
    }
   ],
   "source": [
    "df.info()"
   ]
  },
  {
   "cell_type": "code",
   "execution_count": 193,
   "metadata": {},
   "outputs": [],
   "source": [
    "df.drop(columns=['Score'],inplace=True)"
   ]
  },
  {
   "cell_type": "code",
   "execution_count": 194,
   "metadata": {},
   "outputs": [
    {
     "data": {
      "text/html": [
       "<div>\n",
       "<style scoped>\n",
       "    .dataframe tbody tr th:only-of-type {\n",
       "        vertical-align: middle;\n",
       "    }\n",
       "\n",
       "    .dataframe tbody tr th {\n",
       "        vertical-align: top;\n",
       "    }\n",
       "\n",
       "    .dataframe thead th {\n",
       "        text-align: right;\n",
       "    }\n",
       "</style>\n",
       "<table border=\"1\" class=\"dataframe\">\n",
       "  <thead>\n",
       "    <tr style=\"text-align: right;\">\n",
       "      <th></th>\n",
       "      <th>Python knowledge on a scale of 1-10</th>\n",
       "      <th>SQL knowledge on a scale 1-10</th>\n",
       "      <th>Knowledge of Neural Networks on a scale of 1-10</th>\n",
       "      <th>Total Experience of Candidate</th>\n",
       "      <th>year</th>\n",
       "      <th>DAY</th>\n",
       "      <th>MONTH</th>\n",
       "    </tr>\n",
       "  </thead>\n",
       "  <tbody>\n",
       "    <tr>\n",
       "      <th>count</th>\n",
       "      <td>3.000000</td>\n",
       "      <td>3.000000</td>\n",
       "      <td>3.000000</td>\n",
       "      <td>3.000000</td>\n",
       "      <td>3.0</td>\n",
       "      <td>3.000000</td>\n",
       "      <td>3.0</td>\n",
       "    </tr>\n",
       "    <tr>\n",
       "      <th>mean</th>\n",
       "      <td>9.000000</td>\n",
       "      <td>6.333333</td>\n",
       "      <td>8.666667</td>\n",
       "      <td>4.333333</td>\n",
       "      <td>2019.0</td>\n",
       "      <td>26.000000</td>\n",
       "      <td>9.0</td>\n",
       "    </tr>\n",
       "    <tr>\n",
       "      <th>std</th>\n",
       "      <td>1.732051</td>\n",
       "      <td>4.041452</td>\n",
       "      <td>2.309401</td>\n",
       "      <td>3.511885</td>\n",
       "      <td>0.0</td>\n",
       "      <td>1.732051</td>\n",
       "      <td>0.0</td>\n",
       "    </tr>\n",
       "    <tr>\n",
       "      <th>min</th>\n",
       "      <td>7.000000</td>\n",
       "      <td>2.000000</td>\n",
       "      <td>6.000000</td>\n",
       "      <td>1.000000</td>\n",
       "      <td>2019.0</td>\n",
       "      <td>24.000000</td>\n",
       "      <td>9.0</td>\n",
       "    </tr>\n",
       "    <tr>\n",
       "      <th>25%</th>\n",
       "      <td>8.500000</td>\n",
       "      <td>4.500000</td>\n",
       "      <td>8.000000</td>\n",
       "      <td>2.500000</td>\n",
       "      <td>2019.0</td>\n",
       "      <td>25.500000</td>\n",
       "      <td>9.0</td>\n",
       "    </tr>\n",
       "    <tr>\n",
       "      <th>50%</th>\n",
       "      <td>10.000000</td>\n",
       "      <td>7.000000</td>\n",
       "      <td>10.000000</td>\n",
       "      <td>4.000000</td>\n",
       "      <td>2019.0</td>\n",
       "      <td>27.000000</td>\n",
       "      <td>9.0</td>\n",
       "    </tr>\n",
       "    <tr>\n",
       "      <th>75%</th>\n",
       "      <td>10.000000</td>\n",
       "      <td>8.500000</td>\n",
       "      <td>10.000000</td>\n",
       "      <td>6.000000</td>\n",
       "      <td>2019.0</td>\n",
       "      <td>27.000000</td>\n",
       "      <td>9.0</td>\n",
       "    </tr>\n",
       "    <tr>\n",
       "      <th>max</th>\n",
       "      <td>10.000000</td>\n",
       "      <td>10.000000</td>\n",
       "      <td>10.000000</td>\n",
       "      <td>8.000000</td>\n",
       "      <td>2019.0</td>\n",
       "      <td>27.000000</td>\n",
       "      <td>9.0</td>\n",
       "    </tr>\n",
       "  </tbody>\n",
       "</table>\n",
       "</div>"
      ],
      "text/plain": [
       "       Python knowledge on a scale of 1-10  SQL knowledge on a scale 1-10  \\\n",
       "count                             3.000000                       3.000000   \n",
       "mean                              9.000000                       6.333333   \n",
       "std                               1.732051                       4.041452   \n",
       "min                               7.000000                       2.000000   \n",
       "25%                               8.500000                       4.500000   \n",
       "50%                              10.000000                       7.000000   \n",
       "75%                              10.000000                       8.500000   \n",
       "max                              10.000000                      10.000000   \n",
       "\n",
       "       Knowledge of Neural Networks on a scale of 1-10  \\\n",
       "count                                         3.000000   \n",
       "mean                                          8.666667   \n",
       "std                                           2.309401   \n",
       "min                                           6.000000   \n",
       "25%                                           8.000000   \n",
       "50%                                          10.000000   \n",
       "75%                                          10.000000   \n",
       "max                                          10.000000   \n",
       "\n",
       "       Total Experience of Candidate    year        DAY  MONTH  \n",
       "count                       3.000000     3.0   3.000000    3.0  \n",
       "mean                        4.333333  2019.0  26.000000    9.0  \n",
       "std                         3.511885     0.0   1.732051    0.0  \n",
       "min                         1.000000  2019.0  24.000000    9.0  \n",
       "25%                         2.500000  2019.0  25.500000    9.0  \n",
       "50%                         4.000000  2019.0  27.000000    9.0  \n",
       "75%                         6.000000  2019.0  27.000000    9.0  \n",
       "max                         8.000000  2019.0  27.000000    9.0  "
      ]
     },
     "execution_count": 194,
     "metadata": {},
     "output_type": "execute_result"
    }
   ],
   "source": [
    "df.describe()"
   ]
  },
  {
   "cell_type": "code",
   "execution_count": 196,
   "metadata": {},
   "outputs": [
    {
     "data": {
      "text/plain": [
       "Index(['Timestamp', 'Name of Candidate', 'Email Address of Candidate  ',\n",
       "       'Candidate Performance Rating', 'Python knowledge on a scale of 1-10',\n",
       "       ' Candidate personality', 'Education', 'SQL knowledge on a scale 1-10',\n",
       "       'Knowledge of Programming Languages. Select all applicable.',\n",
       "       'Data Structures and Algorithms knowedge on sacle 1-10',\n",
       "       'Knowledge of ML libraries. Select all options which are applicable.',\n",
       "       'Knowledge of Neural Networks on a scale of 1-10',\n",
       "       'Knowledge of Neural Networks Architectures? Select all applicable.',\n",
       "       'Total Experience of Candidate',\n",
       "       'Knowledge of DeepLearning Frameworks? Select all applicable.',\n",
       "       'new_column', 'year', 'DAY', 'MONTH'],\n",
       "      dtype='object')"
      ]
     },
     "execution_count": 196,
     "metadata": {},
     "output_type": "execute_result"
    }
   ],
   "source": [
    "df.columns"
   ]
  },
  {
   "cell_type": "code",
   "execution_count": 197,
   "metadata": {},
   "outputs": [],
   "source": [
    "#renaming a column of a dataframe\n",
    "df.rename(columns={'Education ':\"Education\"},inplace=True)"
   ]
  },
  {
   "cell_type": "code",
   "execution_count": 198,
   "metadata": {},
   "outputs": [
    {
     "data": {
      "text/plain": [
       "'Sckitlearn, Pandas, Scipy, NumPy, MatPlotlib'"
      ]
     },
     "execution_count": 198,
     "metadata": {},
     "output_type": "execute_result"
    }
   ],
   "source": [
    "#library known by the first candidate\n",
    "mllib=df['Knowledge of ML libraries. Select all options which are applicable.'].tolist()\n",
    "mllib[0]"
   ]
  },
  {
   "cell_type": "code",
   "execution_count": 199,
   "metadata": {},
   "outputs": [
    {
     "data": {
      "text/plain": [
       " Candidate personality                                               Best\n",
       "Education                                                          Master\n",
       "SQL knowledge on a scale 1-10                                          10\n",
       "Knowledge of Programming Languages. Select all applicable.    Python, SQL\n",
       "Name: 1, dtype: object"
      ]
     },
     "execution_count": 199,
     "metadata": {},
     "output_type": "execute_result"
    }
   ],
   "source": [
    "#first candiate details of column 5 to 9\n",
    "df.iloc[1,5:9]"
   ]
  },
  {
   "cell_type": "code",
   "execution_count": 200,
   "metadata": {},
   "outputs": [
    {
     "data": {
      "text/html": [
       "<div>\n",
       "<style scoped>\n",
       "    .dataframe tbody tr th:only-of-type {\n",
       "        vertical-align: middle;\n",
       "    }\n",
       "\n",
       "    .dataframe tbody tr th {\n",
       "        vertical-align: top;\n",
       "    }\n",
       "\n",
       "    .dataframe thead th {\n",
       "        text-align: right;\n",
       "    }\n",
       "</style>\n",
       "<table border=\"1\" class=\"dataframe\">\n",
       "  <thead>\n",
       "    <tr style=\"text-align: right;\">\n",
       "      <th></th>\n",
       "      <th>Timestamp</th>\n",
       "      <th>Name of Candidate</th>\n",
       "      <th>Email Address of Candidate</th>\n",
       "      <th>Candidate Performance Rating</th>\n",
       "      <th>Python knowledge on a scale of 1-10</th>\n",
       "      <th>Candidate personality</th>\n",
       "      <th>Education</th>\n",
       "      <th>SQL knowledge on a scale 1-10</th>\n",
       "      <th>Knowledge of Programming Languages. Select all applicable.</th>\n",
       "      <th>Data Structures and Algorithms knowedge on sacle 1-10</th>\n",
       "      <th>Knowledge of ML libraries. Select all options which are applicable.</th>\n",
       "      <th>Knowledge of Neural Networks on a scale of 1-10</th>\n",
       "      <th>Knowledge of Neural Networks Architectures? Select all applicable.</th>\n",
       "      <th>Total Experience of Candidate</th>\n",
       "      <th>Knowledge of DeepLearning Frameworks? Select all applicable.</th>\n",
       "      <th>new_column</th>\n",
       "      <th>year</th>\n",
       "      <th>DAY</th>\n",
       "      <th>MONTH</th>\n",
       "    </tr>\n",
       "  </thead>\n",
       "  <tbody>\n",
       "    <tr>\n",
       "      <th>0</th>\n",
       "      <td>9/24/2019 21:20:42</td>\n",
       "      <td>Vikas</td>\n",
       "      <td>xyz@gmail.com</td>\n",
       "      <td>Excellent</td>\n",
       "      <td>7</td>\n",
       "      <td>Good</td>\n",
       "      <td>College</td>\n",
       "      <td>7</td>\n",
       "      <td>Python, Java, SQL</td>\n",
       "      <td>9</td>\n",
       "      <td>Sckitlearn, Pandas, Scipy, NumPy, MatPlotlib</td>\n",
       "      <td>10</td>\n",
       "      <td>LSTM</td>\n",
       "      <td>1</td>\n",
       "      <td>Tensorflow, Pytorch, Keras</td>\n",
       "      <td>&lt;class 'str'&gt;</td>\n",
       "      <td>2019</td>\n",
       "      <td>24</td>\n",
       "      <td>9</td>\n",
       "    </tr>\n",
       "    <tr>\n",
       "      <th>1</th>\n",
       "      <td>9/27/2019 18:22:02</td>\n",
       "      <td>Pranav Kapoor</td>\n",
       "      <td>pranavkapoor@gmail.com</td>\n",
       "      <td>Outstanding</td>\n",
       "      <td>10</td>\n",
       "      <td>Best</td>\n",
       "      <td>Master</td>\n",
       "      <td>10</td>\n",
       "      <td>Python, SQL</td>\n",
       "      <td>10</td>\n",
       "      <td>Scipy, MatPlotlib</td>\n",
       "      <td>10</td>\n",
       "      <td>RNN, NN</td>\n",
       "      <td>4</td>\n",
       "      <td>Tensorflow</td>\n",
       "      <td>&lt;class 'str'&gt;</td>\n",
       "      <td>2019</td>\n",
       "      <td>27</td>\n",
       "      <td>9</td>\n",
       "    </tr>\n",
       "    <tr>\n",
       "      <th>2</th>\n",
       "      <td>9/27/2019 18:23:28</td>\n",
       "      <td>Prateek Garg</td>\n",
       "      <td>prateek_garg@gmail.com</td>\n",
       "      <td>Low</td>\n",
       "      <td>10</td>\n",
       "      <td>Good</td>\n",
       "      <td>College</td>\n",
       "      <td>2</td>\n",
       "      <td>C++, SQL</td>\n",
       "      <td>6</td>\n",
       "      <td>Scipy</td>\n",
       "      <td>6</td>\n",
       "      <td>RNN, LSTM</td>\n",
       "      <td>8</td>\n",
       "      <td>Tensorflow</td>\n",
       "      <td>&lt;class 'str'&gt;</td>\n",
       "      <td>2019</td>\n",
       "      <td>27</td>\n",
       "      <td>9</td>\n",
       "    </tr>\n",
       "  </tbody>\n",
       "</table>\n",
       "</div>"
      ],
      "text/plain": [
       "            Timestamp Name of Candidate Email Address of Candidate    \\\n",
       "0  9/24/2019 21:20:42             Vikas                xyz@gmail.com   \n",
       "1  9/27/2019 18:22:02     Pranav Kapoor       pranavkapoor@gmail.com   \n",
       "2  9/27/2019 18:23:28      Prateek Garg       prateek_garg@gmail.com   \n",
       "\n",
       "  Candidate Performance Rating  Python knowledge on a scale of 1-10  \\\n",
       "0                    Excellent                                    7   \n",
       "1                  Outstanding                                   10   \n",
       "2                          Low                                   10   \n",
       "\n",
       "   Candidate personality Education  SQL knowledge on a scale 1-10  \\\n",
       "0                   Good   College                              7   \n",
       "1                   Best    Master                             10   \n",
       "2                   Good   College                              2   \n",
       "\n",
       "  Knowledge of Programming Languages. Select all applicable.  \\\n",
       "0                                  Python, Java, SQL           \n",
       "1                                        Python, SQL           \n",
       "2                                           C++, SQL           \n",
       "\n",
       "  Data Structures and Algorithms knowedge on sacle 1-10  \\\n",
       "0                                                  9      \n",
       "1                                                 10      \n",
       "2                                                  6      \n",
       "\n",
       "  Knowledge of ML libraries. Select all options which are applicable.  \\\n",
       "0       Sckitlearn, Pandas, Scipy, NumPy, MatPlotlib                    \n",
       "1                                  Scipy, MatPlotlib                    \n",
       "2                                              Scipy                    \n",
       "\n",
       "   Knowledge of Neural Networks on a scale of 1-10  \\\n",
       "0                                               10   \n",
       "1                                               10   \n",
       "2                                                6   \n",
       "\n",
       "  Knowledge of Neural Networks Architectures? Select all applicable.  \\\n",
       "0                                               LSTM                   \n",
       "1                                            RNN, NN                   \n",
       "2                                          RNN, LSTM                   \n",
       "\n",
       "   Total Experience of Candidate  \\\n",
       "0                              1   \n",
       "1                              4   \n",
       "2                              8   \n",
       "\n",
       "  Knowledge of DeepLearning Frameworks? Select all applicable.     new_column  \\\n",
       "0                         Tensorflow, Pytorch, Keras            <class 'str'>   \n",
       "1                                         Tensorflow            <class 'str'>   \n",
       "2                                         Tensorflow            <class 'str'>   \n",
       "\n",
       "   year  DAY  MONTH  \n",
       "0  2019   24      9  \n",
       "1  2019   27      9  \n",
       "2  2019   27      9  "
      ]
     },
     "execution_count": 200,
     "metadata": {},
     "output_type": "execute_result"
    }
   ],
   "source": [
    "df"
   ]
  },
  {
   "cell_type": "code",
   "execution_count": 201,
   "metadata": {},
   "outputs": [
    {
     "data": {
      "text/plain": [
       "Name of Candidate                                                               Pranav Kapoor\n",
       "Email Address of Candidate                                             pranavkapoor@gmail.com\n",
       "Candidate Performance Rating                                                      Outstanding\n",
       "Python knowledge on a scale of 1-10                                                        10\n",
       " Candidate personality                                                                   Best\n",
       "Education                                                                              Master\n",
       "SQL knowledge on a scale 1-10                                                              10\n",
       "Knowledge of Programming Languages. Select all applicable.                        Python, SQL\n",
       "Data Structures and Algorithms knowedge on sacle 1-10                                      10\n",
       "Knowledge of ML libraries. Select all options which are applicable.         Scipy, MatPlotlib\n",
       "Knowledge of Neural Networks on a scale of 1-10                                            10\n",
       "Knowledge of Neural Networks Architectures? Select all applicable.                    RNN, NN\n",
       "Total Experience of Candidate                                                               4\n",
       "Knowledge of DeepLearning Frameworks? Select all applicable.                       Tensorflow\n",
       "Name: 1, dtype: object"
      ]
     },
     "execution_count": 201,
     "metadata": {},
     "output_type": "execute_result"
    }
   ],
   "source": [
    "#retrieving all columns for candiate using index v\n",
    "df.loc[1,'Name of Candidate':'Knowledge of DeepLearning Frameworks? Select all applicable.']"
   ]
  },
  {
   "cell_type": "code",
   "execution_count": 202,
   "metadata": {},
   "outputs": [],
   "source": [
    "#grouping the records on Education Criteria\n",
    "df_education=df.groupby('Education')"
   ]
  },
  {
   "cell_type": "code",
   "execution_count": 203,
   "metadata": {},
   "outputs": [
    {
     "data": {
      "text/plain": [
       "pandas.core.groupby.generic.DataFrameGroupBy"
      ]
     },
     "execution_count": 203,
     "metadata": {},
     "output_type": "execute_result"
    }
   ],
   "source": [
    "type(df_education)"
   ]
  },
  {
   "cell_type": "code",
   "execution_count": 204,
   "metadata": {},
   "outputs": [
    {
     "data": {
      "text/html": [
       "<div>\n",
       "<style scoped>\n",
       "    .dataframe tbody tr th:only-of-type {\n",
       "        vertical-align: middle;\n",
       "    }\n",
       "\n",
       "    .dataframe tbody tr th {\n",
       "        vertical-align: top;\n",
       "    }\n",
       "\n",
       "    .dataframe thead th {\n",
       "        text-align: right;\n",
       "    }\n",
       "</style>\n",
       "<table border=\"1\" class=\"dataframe\">\n",
       "  <thead>\n",
       "    <tr style=\"text-align: right;\">\n",
       "      <th></th>\n",
       "      <th>Timestamp</th>\n",
       "      <th>Name of Candidate</th>\n",
       "      <th>Email Address of Candidate</th>\n",
       "      <th>Candidate Performance Rating</th>\n",
       "      <th>Python knowledge on a scale of 1-10</th>\n",
       "      <th>Candidate personality</th>\n",
       "      <th>SQL knowledge on a scale 1-10</th>\n",
       "      <th>Knowledge of Programming Languages. Select all applicable.</th>\n",
       "      <th>Data Structures and Algorithms knowedge on sacle 1-10</th>\n",
       "      <th>Knowledge of ML libraries. Select all options which are applicable.</th>\n",
       "      <th>Knowledge of Neural Networks on a scale of 1-10</th>\n",
       "      <th>Knowledge of Neural Networks Architectures? Select all applicable.</th>\n",
       "      <th>Total Experience of Candidate</th>\n",
       "      <th>Knowledge of DeepLearning Frameworks? Select all applicable.</th>\n",
       "      <th>new_column</th>\n",
       "      <th>year</th>\n",
       "      <th>DAY</th>\n",
       "      <th>MONTH</th>\n",
       "    </tr>\n",
       "    <tr>\n",
       "      <th>Education</th>\n",
       "      <th></th>\n",
       "      <th></th>\n",
       "      <th></th>\n",
       "      <th></th>\n",
       "      <th></th>\n",
       "      <th></th>\n",
       "      <th></th>\n",
       "      <th></th>\n",
       "      <th></th>\n",
       "      <th></th>\n",
       "      <th></th>\n",
       "      <th></th>\n",
       "      <th></th>\n",
       "      <th></th>\n",
       "      <th></th>\n",
       "      <th></th>\n",
       "      <th></th>\n",
       "      <th></th>\n",
       "    </tr>\n",
       "  </thead>\n",
       "  <tbody>\n",
       "    <tr>\n",
       "      <th>College</th>\n",
       "      <td>9/24/2019 21:20:42</td>\n",
       "      <td>Vikas</td>\n",
       "      <td>xyz@gmail.com</td>\n",
       "      <td>Excellent</td>\n",
       "      <td>7</td>\n",
       "      <td>Good</td>\n",
       "      <td>7</td>\n",
       "      <td>Python, Java, SQL</td>\n",
       "      <td>9</td>\n",
       "      <td>Sckitlearn, Pandas, Scipy, NumPy, MatPlotlib</td>\n",
       "      <td>10</td>\n",
       "      <td>LSTM</td>\n",
       "      <td>1</td>\n",
       "      <td>Tensorflow, Pytorch, Keras</td>\n",
       "      <td>&lt;class 'str'&gt;</td>\n",
       "      <td>2019</td>\n",
       "      <td>24</td>\n",
       "      <td>9</td>\n",
       "    </tr>\n",
       "    <tr>\n",
       "      <th>Master</th>\n",
       "      <td>9/27/2019 18:22:02</td>\n",
       "      <td>Pranav Kapoor</td>\n",
       "      <td>pranavkapoor@gmail.com</td>\n",
       "      <td>Outstanding</td>\n",
       "      <td>10</td>\n",
       "      <td>Best</td>\n",
       "      <td>10</td>\n",
       "      <td>Python, SQL</td>\n",
       "      <td>10</td>\n",
       "      <td>Scipy, MatPlotlib</td>\n",
       "      <td>10</td>\n",
       "      <td>RNN, NN</td>\n",
       "      <td>4</td>\n",
       "      <td>Tensorflow</td>\n",
       "      <td>&lt;class 'str'&gt;</td>\n",
       "      <td>2019</td>\n",
       "      <td>27</td>\n",
       "      <td>9</td>\n",
       "    </tr>\n",
       "  </tbody>\n",
       "</table>\n",
       "</div>"
      ],
      "text/plain": [
       "                    Timestamp Name of Candidate Email Address of Candidate    \\\n",
       "Education                                                                      \n",
       "College    9/24/2019 21:20:42             Vikas                xyz@gmail.com   \n",
       "Master     9/27/2019 18:22:02     Pranav Kapoor       pranavkapoor@gmail.com   \n",
       "\n",
       "          Candidate Performance Rating  Python knowledge on a scale of 1-10  \\\n",
       "Education                                                                     \n",
       "College                      Excellent                                    7   \n",
       "Master                     Outstanding                                   10   \n",
       "\n",
       "           Candidate personality  SQL knowledge on a scale 1-10  \\\n",
       "Education                                                         \n",
       "College                     Good                              7   \n",
       "Master                      Best                             10   \n",
       "\n",
       "          Knowledge of Programming Languages. Select all applicable.  \\\n",
       "Education                                                              \n",
       "College                                    Python, Java, SQL           \n",
       "Master                                           Python, SQL           \n",
       "\n",
       "          Data Structures and Algorithms knowedge on sacle 1-10  \\\n",
       "Education                                                         \n",
       "College                                                    9      \n",
       "Master                                                    10      \n",
       "\n",
       "          Knowledge of ML libraries. Select all options which are applicable.  \\\n",
       "Education                                                                       \n",
       "College         Sckitlearn, Pandas, Scipy, NumPy, MatPlotlib                    \n",
       "Master                                     Scipy, MatPlotlib                    \n",
       "\n",
       "           Knowledge of Neural Networks on a scale of 1-10  \\\n",
       "Education                                                    \n",
       "College                                                 10   \n",
       "Master                                                  10   \n",
       "\n",
       "          Knowledge of Neural Networks Architectures? Select all applicable.  \\\n",
       "Education                                                                      \n",
       "College                                                 LSTM                   \n",
       "Master                                               RNN, NN                   \n",
       "\n",
       "           Total Experience of Candidate  \\\n",
       "Education                                  \n",
       "College                                1   \n",
       "Master                                 4   \n",
       "\n",
       "          Knowledge of DeepLearning Frameworks? Select all applicable.  \\\n",
       "Education                                                                \n",
       "College                           Tensorflow, Pytorch, Keras             \n",
       "Master                                            Tensorflow             \n",
       "\n",
       "              new_column  year  DAY  MONTH  \n",
       "Education                                   \n",
       "College    <class 'str'>  2019   24      9  \n",
       "Master     <class 'str'>  2019   27      9  "
      ]
     },
     "execution_count": 204,
     "metadata": {},
     "output_type": "execute_result"
    }
   ],
   "source": [
    "#First unique value of all groups formed\n",
    "df_education.nth(0)"
   ]
  },
  {
   "cell_type": "code",
   "execution_count": 205,
   "metadata": {},
   "outputs": [
    {
     "data": {
      "text/html": [
       "<div>\n",
       "<style scoped>\n",
       "    .dataframe tbody tr th:only-of-type {\n",
       "        vertical-align: middle;\n",
       "    }\n",
       "\n",
       "    .dataframe tbody tr th {\n",
       "        vertical-align: top;\n",
       "    }\n",
       "\n",
       "    .dataframe thead th {\n",
       "        text-align: right;\n",
       "    }\n",
       "</style>\n",
       "<table border=\"1\" class=\"dataframe\">\n",
       "  <thead>\n",
       "    <tr style=\"text-align: right;\">\n",
       "      <th></th>\n",
       "      <th>Timestamp</th>\n",
       "      <th>Name of Candidate</th>\n",
       "      <th>Email Address of Candidate</th>\n",
       "      <th>Candidate Performance Rating</th>\n",
       "      <th>Python knowledge on a scale of 1-10</th>\n",
       "      <th>Candidate personality</th>\n",
       "      <th>SQL knowledge on a scale 1-10</th>\n",
       "      <th>Knowledge of Programming Languages. Select all applicable.</th>\n",
       "      <th>Data Structures and Algorithms knowedge on sacle 1-10</th>\n",
       "      <th>Knowledge of ML libraries. Select all options which are applicable.</th>\n",
       "      <th>Knowledge of Neural Networks on a scale of 1-10</th>\n",
       "      <th>Knowledge of Neural Networks Architectures? Select all applicable.</th>\n",
       "      <th>Total Experience of Candidate</th>\n",
       "      <th>Knowledge of DeepLearning Frameworks? Select all applicable.</th>\n",
       "      <th>new_column</th>\n",
       "      <th>year</th>\n",
       "      <th>DAY</th>\n",
       "      <th>MONTH</th>\n",
       "    </tr>\n",
       "  </thead>\n",
       "  <tbody>\n",
       "    <tr>\n",
       "      <th>0</th>\n",
       "      <td>9/24/2019 21:20:42</td>\n",
       "      <td>Vikas</td>\n",
       "      <td>xyz@gmail.com</td>\n",
       "      <td>Excellent</td>\n",
       "      <td>7</td>\n",
       "      <td>Good</td>\n",
       "      <td>7</td>\n",
       "      <td>Python, Java, SQL</td>\n",
       "      <td>9</td>\n",
       "      <td>Sckitlearn, Pandas, Scipy, NumPy, MatPlotlib</td>\n",
       "      <td>10</td>\n",
       "      <td>LSTM</td>\n",
       "      <td>1</td>\n",
       "      <td>Tensorflow, Pytorch, Keras</td>\n",
       "      <td>&lt;class 'str'&gt;</td>\n",
       "      <td>2019</td>\n",
       "      <td>24</td>\n",
       "      <td>9</td>\n",
       "    </tr>\n",
       "    <tr>\n",
       "      <th>2</th>\n",
       "      <td>9/27/2019 18:23:28</td>\n",
       "      <td>Prateek Garg</td>\n",
       "      <td>prateek_garg@gmail.com</td>\n",
       "      <td>Low</td>\n",
       "      <td>10</td>\n",
       "      <td>Good</td>\n",
       "      <td>2</td>\n",
       "      <td>C++, SQL</td>\n",
       "      <td>6</td>\n",
       "      <td>Scipy</td>\n",
       "      <td>6</td>\n",
       "      <td>RNN, LSTM</td>\n",
       "      <td>8</td>\n",
       "      <td>Tensorflow</td>\n",
       "      <td>&lt;class 'str'&gt;</td>\n",
       "      <td>2019</td>\n",
       "      <td>27</td>\n",
       "      <td>9</td>\n",
       "    </tr>\n",
       "  </tbody>\n",
       "</table>\n",
       "</div>"
      ],
      "text/plain": [
       "            Timestamp Name of Candidate Email Address of Candidate    \\\n",
       "0  9/24/2019 21:20:42             Vikas                xyz@gmail.com   \n",
       "2  9/27/2019 18:23:28      Prateek Garg       prateek_garg@gmail.com   \n",
       "\n",
       "  Candidate Performance Rating  Python knowledge on a scale of 1-10  \\\n",
       "0                    Excellent                                    7   \n",
       "2                          Low                                   10   \n",
       "\n",
       "   Candidate personality  SQL knowledge on a scale 1-10  \\\n",
       "0                   Good                              7   \n",
       "2                   Good                              2   \n",
       "\n",
       "  Knowledge of Programming Languages. Select all applicable.  \\\n",
       "0                                  Python, Java, SQL           \n",
       "2                                           C++, SQL           \n",
       "\n",
       "  Data Structures and Algorithms knowedge on sacle 1-10  \\\n",
       "0                                                  9      \n",
       "2                                                  6      \n",
       "\n",
       "  Knowledge of ML libraries. Select all options which are applicable.  \\\n",
       "0       Sckitlearn, Pandas, Scipy, NumPy, MatPlotlib                    \n",
       "2                                              Scipy                    \n",
       "\n",
       "   Knowledge of Neural Networks on a scale of 1-10  \\\n",
       "0                                               10   \n",
       "2                                                6   \n",
       "\n",
       "  Knowledge of Neural Networks Architectures? Select all applicable.  \\\n",
       "0                                               LSTM                   \n",
       "2                                          RNN, LSTM                   \n",
       "\n",
       "   Total Experience of Candidate  \\\n",
       "0                              1   \n",
       "2                              8   \n",
       "\n",
       "  Knowledge of DeepLearning Frameworks? Select all applicable.     new_column  \\\n",
       "0                         Tensorflow, Pytorch, Keras            <class 'str'>   \n",
       "2                                         Tensorflow            <class 'str'>   \n",
       "\n",
       "   year  DAY  MONTH  \n",
       "0  2019   24      9  \n",
       "2  2019   27      9  "
      ]
     },
     "execution_count": 205,
     "metadata": {},
     "output_type": "execute_result"
    }
   ],
   "source": [
    "#get all values for group College\n",
    "df_education.get_group('College')"
   ]
  },
  {
   "cell_type": "code",
   "execution_count": 206,
   "metadata": {},
   "outputs": [
    {
     "data": {
      "text/html": [
       "<div>\n",
       "<style scoped>\n",
       "    .dataframe tbody tr th:only-of-type {\n",
       "        vertical-align: middle;\n",
       "    }\n",
       "\n",
       "    .dataframe tbody tr th {\n",
       "        vertical-align: top;\n",
       "    }\n",
       "\n",
       "    .dataframe thead th {\n",
       "        text-align: right;\n",
       "    }\n",
       "</style>\n",
       "<table border=\"1\" class=\"dataframe\">\n",
       "  <thead>\n",
       "    <tr style=\"text-align: right;\">\n",
       "      <th></th>\n",
       "      <th>Timestamp</th>\n",
       "      <th>Name of Candidate</th>\n",
       "      <th>Email Address of Candidate</th>\n",
       "      <th>Candidate Performance Rating</th>\n",
       "      <th>Python knowledge on a scale of 1-10</th>\n",
       "      <th>Candidate personality</th>\n",
       "      <th>SQL knowledge on a scale 1-10</th>\n",
       "      <th>Knowledge of Programming Languages. Select all applicable.</th>\n",
       "      <th>Data Structures and Algorithms knowedge on sacle 1-10</th>\n",
       "      <th>Knowledge of ML libraries. Select all options which are applicable.</th>\n",
       "      <th>Knowledge of Neural Networks on a scale of 1-10</th>\n",
       "      <th>Knowledge of Neural Networks Architectures? Select all applicable.</th>\n",
       "      <th>Total Experience of Candidate</th>\n",
       "      <th>Knowledge of DeepLearning Frameworks? Select all applicable.</th>\n",
       "      <th>new_column</th>\n",
       "      <th>year</th>\n",
       "      <th>DAY</th>\n",
       "      <th>MONTH</th>\n",
       "    </tr>\n",
       "  </thead>\n",
       "  <tbody>\n",
       "    <tr>\n",
       "      <th>1</th>\n",
       "      <td>9/27/2019 18:22:02</td>\n",
       "      <td>Pranav Kapoor</td>\n",
       "      <td>pranavkapoor@gmail.com</td>\n",
       "      <td>Outstanding</td>\n",
       "      <td>10</td>\n",
       "      <td>Best</td>\n",
       "      <td>10</td>\n",
       "      <td>Python, SQL</td>\n",
       "      <td>10</td>\n",
       "      <td>Scipy, MatPlotlib</td>\n",
       "      <td>10</td>\n",
       "      <td>RNN, NN</td>\n",
       "      <td>4</td>\n",
       "      <td>Tensorflow</td>\n",
       "      <td>&lt;class 'str'&gt;</td>\n",
       "      <td>2019</td>\n",
       "      <td>27</td>\n",
       "      <td>9</td>\n",
       "    </tr>\n",
       "  </tbody>\n",
       "</table>\n",
       "</div>"
      ],
      "text/plain": [
       "            Timestamp Name of Candidate Email Address of Candidate    \\\n",
       "1  9/27/2019 18:22:02     Pranav Kapoor       pranavkapoor@gmail.com   \n",
       "\n",
       "  Candidate Performance Rating  Python knowledge on a scale of 1-10  \\\n",
       "1                  Outstanding                                   10   \n",
       "\n",
       "   Candidate personality  SQL knowledge on a scale 1-10  \\\n",
       "1                   Best                             10   \n",
       "\n",
       "  Knowledge of Programming Languages. Select all applicable.  \\\n",
       "1                                        Python, SQL           \n",
       "\n",
       "  Data Structures and Algorithms knowedge on sacle 1-10  \\\n",
       "1                                                 10      \n",
       "\n",
       "  Knowledge of ML libraries. Select all options which are applicable.  \\\n",
       "1                                  Scipy, MatPlotlib                    \n",
       "\n",
       "   Knowledge of Neural Networks on a scale of 1-10  \\\n",
       "1                                               10   \n",
       "\n",
       "  Knowledge of Neural Networks Architectures? Select all applicable.  \\\n",
       "1                                            RNN, NN                   \n",
       "\n",
       "   Total Experience of Candidate  \\\n",
       "1                              4   \n",
       "\n",
       "  Knowledge of DeepLearning Frameworks? Select all applicable.     new_column  \\\n",
       "1                                         Tensorflow            <class 'str'>   \n",
       "\n",
       "   year  DAY  MONTH  \n",
       "1  2019   27      9  "
      ]
     },
     "execution_count": 206,
     "metadata": {},
     "output_type": "execute_result"
    }
   ],
   "source": [
    "df_education.get_group('Master')"
   ]
  },
  {
   "cell_type": "code",
   "execution_count": 207,
   "metadata": {},
   "outputs": [
    {
     "data": {
      "text/plain": [
       "Education\n",
       "College      Excellent\n",
       "Master     Outstanding\n",
       "Name: Candidate Performance Rating, dtype: object"
      ]
     },
     "execution_count": 207,
     "metadata": {},
     "output_type": "execute_result"
    }
   ],
   "source": [
    "#get candidate performance rating column for first value of all groups formed\n",
    "df_education['Candidate Performance Rating'].nth(0)"
   ]
  },
  {
   "cell_type": "code",
   "execution_count": 208,
   "metadata": {},
   "outputs": [
    {
     "data": {
      "text/plain": [
       "array(['College', 'Master', 'College'], dtype=object)"
      ]
     },
     "execution_count": 208,
     "metadata": {},
     "output_type": "execute_result"
    }
   ],
   "source": [
    "#all possible values for columne education\n",
    "df['Education'].values"
   ]
  },
  {
   "cell_type": "code",
   "execution_count": 209,
   "metadata": {},
   "outputs": [
    {
     "data": {
      "text/plain": [
       "3"
      ]
     },
     "execution_count": 209,
     "metadata": {},
     "output_type": "execute_result"
    }
   ],
   "source": [
    "df['Education'].count()"
   ]
  },
  {
   "cell_type": "code",
   "execution_count": 210,
   "metadata": {},
   "outputs": [
    {
     "data": {
      "text/plain": [
       "College    2\n",
       "Master     1\n",
       "Name: Education, dtype: int64"
      ]
     },
     "execution_count": 210,
     "metadata": {},
     "output_type": "execute_result"
    }
   ],
   "source": [
    "df['Education'].value_counts()"
   ]
  },
  {
   "cell_type": "code",
   "execution_count": 211,
   "metadata": {},
   "outputs": [
    {
     "data": {
      "text/plain": [
       "array(['College', 'Master'], dtype=object)"
      ]
     },
     "execution_count": 211,
     "metadata": {},
     "output_type": "execute_result"
    }
   ],
   "source": [
    "#list the unique categories for our feature column Education\n",
    "df['Education'].unique()"
   ]
  },
  {
   "cell_type": "code",
   "execution_count": 212,
   "metadata": {},
   "outputs": [
    {
     "data": {
      "text/plain": [
       "<bound method IndexOpsMixin.value_counts of 0    College\n",
       "1     Master\n",
       "2    College\n",
       "Name: Education, dtype: object>"
      ]
     },
     "execution_count": 212,
     "metadata": {},
     "output_type": "execute_result"
    }
   ],
   "source": [
    "df['Education'].value_counts"
   ]
  },
  {
   "cell_type": "code",
   "execution_count": 213,
   "metadata": {},
   "outputs": [],
   "source": [
    "#creating a new column in our records using an existing one\n",
    "def func(x):\n",
    "    Y=type(x)\n",
    "    \n",
    "    return Y\n",
    "    \n",
    "\n",
    "\n",
    "\n",
    "\n",
    "df['new_column']=df['Education'].map(func)\n"
   ]
  },
  {
   "cell_type": "code",
   "execution_count": 214,
   "metadata": {},
   "outputs": [
    {
     "data": {
      "text/html": [
       "<div>\n",
       "<style scoped>\n",
       "    .dataframe tbody tr th:only-of-type {\n",
       "        vertical-align: middle;\n",
       "    }\n",
       "\n",
       "    .dataframe tbody tr th {\n",
       "        vertical-align: top;\n",
       "    }\n",
       "\n",
       "    .dataframe thead th {\n",
       "        text-align: right;\n",
       "    }\n",
       "</style>\n",
       "<table border=\"1\" class=\"dataframe\">\n",
       "  <thead>\n",
       "    <tr style=\"text-align: right;\">\n",
       "      <th></th>\n",
       "      <th>Timestamp</th>\n",
       "      <th>Name of Candidate</th>\n",
       "      <th>Email Address of Candidate</th>\n",
       "      <th>Candidate Performance Rating</th>\n",
       "      <th>Python knowledge on a scale of 1-10</th>\n",
       "      <th>Candidate personality</th>\n",
       "      <th>Education</th>\n",
       "      <th>SQL knowledge on a scale 1-10</th>\n",
       "      <th>Knowledge of Programming Languages. Select all applicable.</th>\n",
       "      <th>Data Structures and Algorithms knowedge on sacle 1-10</th>\n",
       "      <th>Knowledge of ML libraries. Select all options which are applicable.</th>\n",
       "      <th>Knowledge of Neural Networks on a scale of 1-10</th>\n",
       "      <th>Knowledge of Neural Networks Architectures? Select all applicable.</th>\n",
       "      <th>Total Experience of Candidate</th>\n",
       "      <th>Knowledge of DeepLearning Frameworks? Select all applicable.</th>\n",
       "      <th>new_column</th>\n",
       "      <th>year</th>\n",
       "      <th>DAY</th>\n",
       "      <th>MONTH</th>\n",
       "    </tr>\n",
       "  </thead>\n",
       "  <tbody>\n",
       "    <tr>\n",
       "      <th>0</th>\n",
       "      <td>9/24/2019 21:20:42</td>\n",
       "      <td>Vikas</td>\n",
       "      <td>xyz@gmail.com</td>\n",
       "      <td>Excellent</td>\n",
       "      <td>7</td>\n",
       "      <td>Good</td>\n",
       "      <td>College</td>\n",
       "      <td>7</td>\n",
       "      <td>Python, Java, SQL</td>\n",
       "      <td>9</td>\n",
       "      <td>Sckitlearn, Pandas, Scipy, NumPy, MatPlotlib</td>\n",
       "      <td>10</td>\n",
       "      <td>LSTM</td>\n",
       "      <td>1</td>\n",
       "      <td>Tensorflow, Pytorch, Keras</td>\n",
       "      <td>&lt;class 'str'&gt;</td>\n",
       "      <td>2019</td>\n",
       "      <td>24</td>\n",
       "      <td>9</td>\n",
       "    </tr>\n",
       "    <tr>\n",
       "      <th>1</th>\n",
       "      <td>9/27/2019 18:22:02</td>\n",
       "      <td>Pranav Kapoor</td>\n",
       "      <td>pranavkapoor@gmail.com</td>\n",
       "      <td>Outstanding</td>\n",
       "      <td>10</td>\n",
       "      <td>Best</td>\n",
       "      <td>Master</td>\n",
       "      <td>10</td>\n",
       "      <td>Python, SQL</td>\n",
       "      <td>10</td>\n",
       "      <td>Scipy, MatPlotlib</td>\n",
       "      <td>10</td>\n",
       "      <td>RNN, NN</td>\n",
       "      <td>4</td>\n",
       "      <td>Tensorflow</td>\n",
       "      <td>&lt;class 'str'&gt;</td>\n",
       "      <td>2019</td>\n",
       "      <td>27</td>\n",
       "      <td>9</td>\n",
       "    </tr>\n",
       "    <tr>\n",
       "      <th>2</th>\n",
       "      <td>9/27/2019 18:23:28</td>\n",
       "      <td>Prateek Garg</td>\n",
       "      <td>prateek_garg@gmail.com</td>\n",
       "      <td>Low</td>\n",
       "      <td>10</td>\n",
       "      <td>Good</td>\n",
       "      <td>College</td>\n",
       "      <td>2</td>\n",
       "      <td>C++, SQL</td>\n",
       "      <td>6</td>\n",
       "      <td>Scipy</td>\n",
       "      <td>6</td>\n",
       "      <td>RNN, LSTM</td>\n",
       "      <td>8</td>\n",
       "      <td>Tensorflow</td>\n",
       "      <td>&lt;class 'str'&gt;</td>\n",
       "      <td>2019</td>\n",
       "      <td>27</td>\n",
       "      <td>9</td>\n",
       "    </tr>\n",
       "  </tbody>\n",
       "</table>\n",
       "</div>"
      ],
      "text/plain": [
       "            Timestamp Name of Candidate Email Address of Candidate    \\\n",
       "0  9/24/2019 21:20:42             Vikas                xyz@gmail.com   \n",
       "1  9/27/2019 18:22:02     Pranav Kapoor       pranavkapoor@gmail.com   \n",
       "2  9/27/2019 18:23:28      Prateek Garg       prateek_garg@gmail.com   \n",
       "\n",
       "  Candidate Performance Rating  Python knowledge on a scale of 1-10  \\\n",
       "0                    Excellent                                    7   \n",
       "1                  Outstanding                                   10   \n",
       "2                          Low                                   10   \n",
       "\n",
       "   Candidate personality Education  SQL knowledge on a scale 1-10  \\\n",
       "0                   Good   College                              7   \n",
       "1                   Best    Master                             10   \n",
       "2                   Good   College                              2   \n",
       "\n",
       "  Knowledge of Programming Languages. Select all applicable.  \\\n",
       "0                                  Python, Java, SQL           \n",
       "1                                        Python, SQL           \n",
       "2                                           C++, SQL           \n",
       "\n",
       "  Data Structures and Algorithms knowedge on sacle 1-10  \\\n",
       "0                                                  9      \n",
       "1                                                 10      \n",
       "2                                                  6      \n",
       "\n",
       "  Knowledge of ML libraries. Select all options which are applicable.  \\\n",
       "0       Sckitlearn, Pandas, Scipy, NumPy, MatPlotlib                    \n",
       "1                                  Scipy, MatPlotlib                    \n",
       "2                                              Scipy                    \n",
       "\n",
       "   Knowledge of Neural Networks on a scale of 1-10  \\\n",
       "0                                               10   \n",
       "1                                               10   \n",
       "2                                                6   \n",
       "\n",
       "  Knowledge of Neural Networks Architectures? Select all applicable.  \\\n",
       "0                                               LSTM                   \n",
       "1                                            RNN, NN                   \n",
       "2                                          RNN, LSTM                   \n",
       "\n",
       "   Total Experience of Candidate  \\\n",
       "0                              1   \n",
       "1                              4   \n",
       "2                              8   \n",
       "\n",
       "  Knowledge of DeepLearning Frameworks? Select all applicable.     new_column  \\\n",
       "0                         Tensorflow, Pytorch, Keras            <class 'str'>   \n",
       "1                                         Tensorflow            <class 'str'>   \n",
       "2                                         Tensorflow            <class 'str'>   \n",
       "\n",
       "   year  DAY  MONTH  \n",
       "0  2019   24      9  \n",
       "1  2019   27      9  \n",
       "2  2019   27      9  "
      ]
     },
     "execution_count": 214,
     "metadata": {},
     "output_type": "execute_result"
    }
   ],
   "source": [
    "df"
   ]
  },
  {
   "cell_type": "code",
   "execution_count": 215,
   "metadata": {},
   "outputs": [
    {
     "data": {
      "text/html": [
       "<div>\n",
       "<style scoped>\n",
       "    .dataframe tbody tr th:only-of-type {\n",
       "        vertical-align: middle;\n",
       "    }\n",
       "\n",
       "    .dataframe tbody tr th {\n",
       "        vertical-align: top;\n",
       "    }\n",
       "\n",
       "    .dataframe thead th {\n",
       "        text-align: right;\n",
       "    }\n",
       "</style>\n",
       "<table border=\"1\" class=\"dataframe\">\n",
       "  <thead>\n",
       "    <tr style=\"text-align: right;\">\n",
       "      <th></th>\n",
       "      <th>Timestamp</th>\n",
       "      <th>Name of Candidate</th>\n",
       "      <th>Email Address of Candidate</th>\n",
       "      <th>Candidate Performance Rating</th>\n",
       "      <th>Python knowledge on a scale of 1-10</th>\n",
       "      <th>Candidate personality</th>\n",
       "      <th>Education</th>\n",
       "      <th>SQL knowledge on a scale 1-10</th>\n",
       "      <th>Knowledge of Programming Languages. Select all applicable.</th>\n",
       "      <th>Data Structures and Algorithms knowedge on sacle 1-10</th>\n",
       "      <th>Knowledge of ML libraries. Select all options which are applicable.</th>\n",
       "      <th>Knowledge of Neural Networks on a scale of 1-10</th>\n",
       "      <th>Knowledge of Neural Networks Architectures? Select all applicable.</th>\n",
       "      <th>Total Experience of Candidate</th>\n",
       "      <th>Knowledge of DeepLearning Frameworks? Select all applicable.</th>\n",
       "      <th>new_column</th>\n",
       "      <th>year</th>\n",
       "      <th>DAY</th>\n",
       "      <th>MONTH</th>\n",
       "    </tr>\n",
       "  </thead>\n",
       "  <tbody>\n",
       "    <tr>\n",
       "      <th>0</th>\n",
       "      <td>9/24/2019 21:20:42</td>\n",
       "      <td>Vikas</td>\n",
       "      <td>xyz@gmail.com</td>\n",
       "      <td>Excellent</td>\n",
       "      <td>7</td>\n",
       "      <td>Good</td>\n",
       "      <td>College</td>\n",
       "      <td>7</td>\n",
       "      <td>Python, Java, SQL</td>\n",
       "      <td>9</td>\n",
       "      <td>Sckitlearn, Pandas, Scipy, NumPy, MatPlotlib</td>\n",
       "      <td>10</td>\n",
       "      <td>LSTM</td>\n",
       "      <td>1</td>\n",
       "      <td>Tensorflow, Pytorch, Keras</td>\n",
       "      <td>&lt;class 'str'&gt;</td>\n",
       "      <td>2019</td>\n",
       "      <td>24</td>\n",
       "      <td>9</td>\n",
       "    </tr>\n",
       "    <tr>\n",
       "      <th>1</th>\n",
       "      <td>9/27/2019 18:22:02</td>\n",
       "      <td>Pranav Kapoor</td>\n",
       "      <td>pranavkapoor@gmail.com</td>\n",
       "      <td>Outstanding</td>\n",
       "      <td>10</td>\n",
       "      <td>Best</td>\n",
       "      <td>Master</td>\n",
       "      <td>10</td>\n",
       "      <td>Python, SQL</td>\n",
       "      <td>10</td>\n",
       "      <td>Scipy, MatPlotlib</td>\n",
       "      <td>10</td>\n",
       "      <td>RNN, NN</td>\n",
       "      <td>4</td>\n",
       "      <td>Tensorflow</td>\n",
       "      <td>&lt;class 'str'&gt;</td>\n",
       "      <td>2019</td>\n",
       "      <td>27</td>\n",
       "      <td>9</td>\n",
       "    </tr>\n",
       "    <tr>\n",
       "      <th>2</th>\n",
       "      <td>9/27/2019 18:23:28</td>\n",
       "      <td>Prateek Garg</td>\n",
       "      <td>prateek_garg@gmail.com</td>\n",
       "      <td>Low</td>\n",
       "      <td>10</td>\n",
       "      <td>Good</td>\n",
       "      <td>College</td>\n",
       "      <td>2</td>\n",
       "      <td>C++, SQL</td>\n",
       "      <td>6</td>\n",
       "      <td>Scipy</td>\n",
       "      <td>6</td>\n",
       "      <td>RNN, LSTM</td>\n",
       "      <td>8</td>\n",
       "      <td>Tensorflow</td>\n",
       "      <td>&lt;class 'str'&gt;</td>\n",
       "      <td>2019</td>\n",
       "      <td>27</td>\n",
       "      <td>9</td>\n",
       "    </tr>\n",
       "  </tbody>\n",
       "</table>\n",
       "</div>"
      ],
      "text/plain": [
       "            Timestamp Name of Candidate Email Address of Candidate    \\\n",
       "0  9/24/2019 21:20:42             Vikas                xyz@gmail.com   \n",
       "1  9/27/2019 18:22:02     Pranav Kapoor       pranavkapoor@gmail.com   \n",
       "2  9/27/2019 18:23:28      Prateek Garg       prateek_garg@gmail.com   \n",
       "\n",
       "  Candidate Performance Rating  Python knowledge on a scale of 1-10  \\\n",
       "0                    Excellent                                    7   \n",
       "1                  Outstanding                                   10   \n",
       "2                          Low                                   10   \n",
       "\n",
       "   Candidate personality Education  SQL knowledge on a scale 1-10  \\\n",
       "0                   Good   College                              7   \n",
       "1                   Best    Master                             10   \n",
       "2                   Good   College                              2   \n",
       "\n",
       "  Knowledge of Programming Languages. Select all applicable.  \\\n",
       "0                                  Python, Java, SQL           \n",
       "1                                        Python, SQL           \n",
       "2                                           C++, SQL           \n",
       "\n",
       "  Data Structures and Algorithms knowedge on sacle 1-10  \\\n",
       "0                                                  9      \n",
       "1                                                 10      \n",
       "2                                                  6      \n",
       "\n",
       "  Knowledge of ML libraries. Select all options which are applicable.  \\\n",
       "0       Sckitlearn, Pandas, Scipy, NumPy, MatPlotlib                    \n",
       "1                                  Scipy, MatPlotlib                    \n",
       "2                                              Scipy                    \n",
       "\n",
       "   Knowledge of Neural Networks on a scale of 1-10  \\\n",
       "0                                               10   \n",
       "1                                               10   \n",
       "2                                                6   \n",
       "\n",
       "  Knowledge of Neural Networks Architectures? Select all applicable.  \\\n",
       "0                                               LSTM                   \n",
       "1                                            RNN, NN                   \n",
       "2                                          RNN, LSTM                   \n",
       "\n",
       "   Total Experience of Candidate  \\\n",
       "0                              1   \n",
       "1                              4   \n",
       "2                              8   \n",
       "\n",
       "  Knowledge of DeepLearning Frameworks? Select all applicable.     new_column  \\\n",
       "0                         Tensorflow, Pytorch, Keras            <class 'str'>   \n",
       "1                                         Tensorflow            <class 'str'>   \n",
       "2                                         Tensorflow            <class 'str'>   \n",
       "\n",
       "   year  DAY  MONTH  \n",
       "0  2019   24      9  \n",
       "1  2019   27      9  \n",
       "2  2019   27      9  "
      ]
     },
     "execution_count": 215,
     "metadata": {},
     "output_type": "execute_result"
    }
   ],
   "source": [
    "from datetime import datetime\n",
    " \n",
    "year = lambda x: datetime.strptime(x, \"%m/%d/%Y %H:%M:%S\" ).year\n",
    "df['year'] = df['Timestamp'].map(year)\n",
    "from datetime import datetime\n",
    " \n",
    "day = lambda x: datetime.strptime(x, \"%m/%d/%Y %H:%M:%S\" ).day\n",
    "df['DAY'] = df['Timestamp'].map(day)\n",
    "df.head()\n",
    "from datetime import datetime\n",
    " \n",
    "month = lambda x: datetime.strptime(x, \"%m/%d/%Y %H:%M:%S\" ).month\n",
    "df['MONTH'] = df['Timestamp'].map(month)\n",
    "df.head()\n",
    "df.head()"
   ]
  },
  {
   "cell_type": "code",
   "execution_count": 216,
   "metadata": {},
   "outputs": [
    {
     "data": {
      "text/plain": [
       "Timestamp                                                                                        9/27/2019 18:23:28\n",
       "Name of Candidate                                                                                             Vikas\n",
       "Email Address of Candidate                                                                            xyz@gmail.com\n",
       "Candidate Performance Rating                                                                            Outstanding\n",
       "Python knowledge on a scale of 1-10                                                                              10\n",
       " Candidate personality                                                                                         Good\n",
       "Education                                                                                                    Master\n",
       "SQL knowledge on a scale 1-10                                                                                    10\n",
       "Knowledge of Programming Languages. Select all applicable.                                              Python, SQL\n",
       "Data Structures and Algorithms knowedge on sacle 1-10                                                             9\n",
       "Knowledge of ML libraries. Select all options which are applicable.    Sckitlearn, Pandas, Scipy, NumPy, MatPlotlib\n",
       "Knowledge of Neural Networks on a scale of 1-10                                                                  10\n",
       "Knowledge of Neural Networks Architectures? Select all applicable.                                          RNN, NN\n",
       "Total Experience of Candidate                                                                                     8\n",
       "Knowledge of DeepLearning Frameworks? Select all applicable.                             Tensorflow, Pytorch, Keras\n",
       "year                                                                                                           2019\n",
       "DAY                                                                                                              27\n",
       "MONTH                                                                                                             9\n",
       "dtype: object"
      ]
     },
     "execution_count": 216,
     "metadata": {},
     "output_type": "execute_result"
    }
   ],
   "source": [
    "df.max()"
   ]
  },
  {
   "cell_type": "code",
   "execution_count": 217,
   "metadata": {},
   "outputs": [
    {
     "data": {
      "text/plain": [
       "10"
      ]
     },
     "execution_count": 217,
     "metadata": {},
     "output_type": "execute_result"
    }
   ],
   "source": [
    "df['Python knowledge on a scale of 1-10'].max()"
   ]
  },
  {
   "cell_type": "code",
   "execution_count": 218,
   "metadata": {},
   "outputs": [
    {
     "data": {
      "text/plain": [
       "0            Vikas\n",
       "1    Pranav Kapoor\n",
       "2     Prateek Garg\n",
       "Name: Name of Candidate, dtype: object"
      ]
     },
     "execution_count": 218,
     "metadata": {},
     "output_type": "execute_result"
    }
   ],
   "source": [
    "df['Name of Candidate']"
   ]
  },
  {
   "cell_type": "code",
   "execution_count": 219,
   "metadata": {},
   "outputs": [
    {
     "data": {
      "text/html": [
       "<div>\n",
       "<style scoped>\n",
       "    .dataframe tbody tr th:only-of-type {\n",
       "        vertical-align: middle;\n",
       "    }\n",
       "\n",
       "    .dataframe tbody tr th {\n",
       "        vertical-align: top;\n",
       "    }\n",
       "\n",
       "    .dataframe thead th {\n",
       "        text-align: right;\n",
       "    }\n",
       "</style>\n",
       "<table border=\"1\" class=\"dataframe\">\n",
       "  <thead>\n",
       "    <tr style=\"text-align: right;\">\n",
       "      <th></th>\n",
       "      <th>Timestamp</th>\n",
       "      <th>Name of Candidate</th>\n",
       "      <th>Email Address of Candidate</th>\n",
       "      <th>Candidate Performance Rating</th>\n",
       "      <th>Python knowledge on a scale of 1-10</th>\n",
       "      <th>Candidate personality</th>\n",
       "      <th>Education</th>\n",
       "      <th>SQL knowledge on a scale 1-10</th>\n",
       "      <th>Knowledge of Programming Languages. Select all applicable.</th>\n",
       "      <th>Data Structures and Algorithms knowedge on sacle 1-10</th>\n",
       "      <th>Knowledge of ML libraries. Select all options which are applicable.</th>\n",
       "      <th>Knowledge of Neural Networks on a scale of 1-10</th>\n",
       "      <th>Knowledge of Neural Networks Architectures? Select all applicable.</th>\n",
       "      <th>Total Experience of Candidate</th>\n",
       "      <th>Knowledge of DeepLearning Frameworks? Select all applicable.</th>\n",
       "      <th>new_column</th>\n",
       "      <th>year</th>\n",
       "      <th>DAY</th>\n",
       "      <th>MONTH</th>\n",
       "    </tr>\n",
       "  </thead>\n",
       "  <tbody>\n",
       "    <tr>\n",
       "      <th>1</th>\n",
       "      <td>9/27/2019 18:22:02</td>\n",
       "      <td>Pranav Kapoor</td>\n",
       "      <td>pranavkapoor@gmail.com</td>\n",
       "      <td>Outstanding</td>\n",
       "      <td>10</td>\n",
       "      <td>Best</td>\n",
       "      <td>Master</td>\n",
       "      <td>10</td>\n",
       "      <td>Python, SQL</td>\n",
       "      <td>10</td>\n",
       "      <td>Scipy, MatPlotlib</td>\n",
       "      <td>10</td>\n",
       "      <td>RNN, NN</td>\n",
       "      <td>4</td>\n",
       "      <td>Tensorflow</td>\n",
       "      <td>&lt;class 'str'&gt;</td>\n",
       "      <td>2019</td>\n",
       "      <td>27</td>\n",
       "      <td>9</td>\n",
       "    </tr>\n",
       "  </tbody>\n",
       "</table>\n",
       "</div>"
      ],
      "text/plain": [
       "            Timestamp Name of Candidate Email Address of Candidate    \\\n",
       "1  9/27/2019 18:22:02     Pranav Kapoor       pranavkapoor@gmail.com   \n",
       "\n",
       "  Candidate Performance Rating  Python knowledge on a scale of 1-10  \\\n",
       "1                  Outstanding                                   10   \n",
       "\n",
       "   Candidate personality Education  SQL knowledge on a scale 1-10  \\\n",
       "1                   Best    Master                             10   \n",
       "\n",
       "  Knowledge of Programming Languages. Select all applicable.  \\\n",
       "1                                        Python, SQL           \n",
       "\n",
       "  Data Structures and Algorithms knowedge on sacle 1-10  \\\n",
       "1                                                 10      \n",
       "\n",
       "  Knowledge of ML libraries. Select all options which are applicable.  \\\n",
       "1                                  Scipy, MatPlotlib                    \n",
       "\n",
       "   Knowledge of Neural Networks on a scale of 1-10  \\\n",
       "1                                               10   \n",
       "\n",
       "  Knowledge of Neural Networks Architectures? Select all applicable.  \\\n",
       "1                                            RNN, NN                   \n",
       "\n",
       "   Total Experience of Candidate  \\\n",
       "1                              4   \n",
       "\n",
       "  Knowledge of DeepLearning Frameworks? Select all applicable.     new_column  \\\n",
       "1                                         Tensorflow            <class 'str'>   \n",
       "\n",
       "   year  DAY  MONTH  \n",
       "1  2019   27      9  "
      ]
     },
     "execution_count": 219,
     "metadata": {},
     "output_type": "execute_result"
    }
   ],
   "source": [
    "#get the record of candidate Pranav Kapoor\n",
    "df[df['Name of Candidate'] == 'Pranav Kapoor']"
   ]
  },
  {
   "cell_type": "code",
   "execution_count": 220,
   "metadata": {},
   "outputs": [
    {
     "data": {
      "text/html": [
       "<div>\n",
       "<style scoped>\n",
       "    .dataframe tbody tr th:only-of-type {\n",
       "        vertical-align: middle;\n",
       "    }\n",
       "\n",
       "    .dataframe tbody tr th {\n",
       "        vertical-align: top;\n",
       "    }\n",
       "\n",
       "    .dataframe thead th {\n",
       "        text-align: right;\n",
       "    }\n",
       "</style>\n",
       "<table border=\"1\" class=\"dataframe\">\n",
       "  <thead>\n",
       "    <tr style=\"text-align: right;\">\n",
       "      <th></th>\n",
       "      <th>Timestamp</th>\n",
       "      <th>Name of Candidate</th>\n",
       "      <th>Email Address of Candidate</th>\n",
       "      <th>Candidate Performance Rating</th>\n",
       "      <th>Python knowledge on a scale of 1-10</th>\n",
       "      <th>Candidate personality</th>\n",
       "      <th>Education</th>\n",
       "      <th>SQL knowledge on a scale 1-10</th>\n",
       "      <th>Knowledge of Programming Languages. Select all applicable.</th>\n",
       "      <th>Data Structures and Algorithms knowedge on sacle 1-10</th>\n",
       "      <th>Knowledge of ML libraries. Select all options which are applicable.</th>\n",
       "      <th>Knowledge of Neural Networks on a scale of 1-10</th>\n",
       "      <th>Knowledge of Neural Networks Architectures? Select all applicable.</th>\n",
       "      <th>Total Experience of Candidate</th>\n",
       "      <th>Knowledge of DeepLearning Frameworks? Select all applicable.</th>\n",
       "      <th>new_column</th>\n",
       "      <th>year</th>\n",
       "      <th>DAY</th>\n",
       "      <th>MONTH</th>\n",
       "    </tr>\n",
       "  </thead>\n",
       "  <tbody>\n",
       "    <tr>\n",
       "      <th>0</th>\n",
       "      <td>9/24/2019 21:20:42</td>\n",
       "      <td>Vikas</td>\n",
       "      <td>xyz@gmail.com</td>\n",
       "      <td>Excellent</td>\n",
       "      <td>7</td>\n",
       "      <td>Good</td>\n",
       "      <td>College</td>\n",
       "      <td>7</td>\n",
       "      <td>Python, Java, SQL</td>\n",
       "      <td>9</td>\n",
       "      <td>Sckitlearn, Pandas, Scipy, NumPy, MatPlotlib</td>\n",
       "      <td>10</td>\n",
       "      <td>LSTM</td>\n",
       "      <td>1</td>\n",
       "      <td>Tensorflow, Pytorch, Keras</td>\n",
       "      <td>&lt;class 'str'&gt;</td>\n",
       "      <td>2019</td>\n",
       "      <td>24</td>\n",
       "      <td>9</td>\n",
       "    </tr>\n",
       "    <tr>\n",
       "      <th>2</th>\n",
       "      <td>9/27/2019 18:23:28</td>\n",
       "      <td>Prateek Garg</td>\n",
       "      <td>prateek_garg@gmail.com</td>\n",
       "      <td>Low</td>\n",
       "      <td>10</td>\n",
       "      <td>Good</td>\n",
       "      <td>College</td>\n",
       "      <td>2</td>\n",
       "      <td>C++, SQL</td>\n",
       "      <td>6</td>\n",
       "      <td>Scipy</td>\n",
       "      <td>6</td>\n",
       "      <td>RNN, LSTM</td>\n",
       "      <td>8</td>\n",
       "      <td>Tensorflow</td>\n",
       "      <td>&lt;class 'str'&gt;</td>\n",
       "      <td>2019</td>\n",
       "      <td>27</td>\n",
       "      <td>9</td>\n",
       "    </tr>\n",
       "  </tbody>\n",
       "</table>\n",
       "</div>"
      ],
      "text/plain": [
       "            Timestamp Name of Candidate Email Address of Candidate    \\\n",
       "0  9/24/2019 21:20:42             Vikas                xyz@gmail.com   \n",
       "2  9/27/2019 18:23:28      Prateek Garg       prateek_garg@gmail.com   \n",
       "\n",
       "  Candidate Performance Rating  Python knowledge on a scale of 1-10  \\\n",
       "0                    Excellent                                    7   \n",
       "2                          Low                                   10   \n",
       "\n",
       "   Candidate personality Education  SQL knowledge on a scale 1-10  \\\n",
       "0                   Good   College                              7   \n",
       "2                   Good   College                              2   \n",
       "\n",
       "  Knowledge of Programming Languages. Select all applicable.  \\\n",
       "0                                  Python, Java, SQL           \n",
       "2                                           C++, SQL           \n",
       "\n",
       "  Data Structures and Algorithms knowedge on sacle 1-10  \\\n",
       "0                                                  9      \n",
       "2                                                  6      \n",
       "\n",
       "  Knowledge of ML libraries. Select all options which are applicable.  \\\n",
       "0       Sckitlearn, Pandas, Scipy, NumPy, MatPlotlib                    \n",
       "2                                              Scipy                    \n",
       "\n",
       "   Knowledge of Neural Networks on a scale of 1-10  \\\n",
       "0                                               10   \n",
       "2                                                6   \n",
       "\n",
       "  Knowledge of Neural Networks Architectures? Select all applicable.  \\\n",
       "0                                               LSTM                   \n",
       "2                                          RNN, LSTM                   \n",
       "\n",
       "   Total Experience of Candidate  \\\n",
       "0                              1   \n",
       "2                              8   \n",
       "\n",
       "  Knowledge of DeepLearning Frameworks? Select all applicable.     new_column  \\\n",
       "0                         Tensorflow, Pytorch, Keras            <class 'str'>   \n",
       "2                                         Tensorflow            <class 'str'>   \n",
       "\n",
       "   year  DAY  MONTH  \n",
       "0  2019   24      9  \n",
       "2  2019   27      9  "
      ]
     },
     "execution_count": 220,
     "metadata": {},
     "output_type": "execute_result"
    }
   ],
   "source": [
    "#get the all the records except Pranav Kapoor\n",
    "df[df['Name of Candidate'] != 'Pranav Kapoor']"
   ]
  },
  {
   "cell_type": "code",
   "execution_count": 221,
   "metadata": {},
   "outputs": [
    {
     "data": {
      "text/plain": [
       "Timestamp                                                              object\n",
       "Name of Candidate                                                      object\n",
       "Email Address of Candidate                                             object\n",
       "Candidate Performance Rating                                           object\n",
       "Python knowledge on a scale of 1-10                                     int32\n",
       " Candidate personality                                                 object\n",
       "Education                                                              object\n",
       "SQL knowledge on a scale 1-10                                           int32\n",
       "Knowledge of Programming Languages. Select all applicable.             object\n",
       "Data Structures and Algorithms knowedge on sacle 1-10                  object\n",
       "Knowledge of ML libraries. Select all options which are applicable.    object\n",
       "Knowledge of Neural Networks on a scale of 1-10                         int32\n",
       "Knowledge of Neural Networks Architectures? Select all applicable.     object\n",
       "Total Experience of Candidate                                           int32\n",
       "Knowledge of DeepLearning Frameworks? Select all applicable.           object\n",
       "new_column                                                             object\n",
       "year                                                                    int64\n",
       "DAY                                                                     int64\n",
       "MONTH                                                                   int64\n",
       "dtype: object"
      ]
     },
     "execution_count": 221,
     "metadata": {},
     "output_type": "execute_result"
    }
   ],
   "source": [
    "#checking the datatype of our columns\n",
    "df.dtypes"
   ]
  },
  {
   "cell_type": "code",
   "execution_count": 222,
   "metadata": {},
   "outputs": [],
   "source": [
    "#changing the datatype of some columns in our dataframe\n",
    "df=df.astype({'Candidate Performance Rating': 'str','Python knowledge on a scale of 1-10': 'int32','SQL knowledge on a scale 1-10': 'int32','Knowledge of Neural Networks on a scale of 1-10':'int32','Total Experience of Candidate':'int32'},copy=True)"
   ]
  },
  {
   "cell_type": "code",
   "execution_count": 223,
   "metadata": {},
   "outputs": [
    {
     "data": {
      "text/plain": [
       "Timestamp                                                              object\n",
       "Name of Candidate                                                      object\n",
       "Email Address of Candidate                                             object\n",
       "Candidate Performance Rating                                           object\n",
       "Python knowledge on a scale of 1-10                                     int32\n",
       " Candidate personality                                                 object\n",
       "Education                                                              object\n",
       "SQL knowledge on a scale 1-10                                           int32\n",
       "Knowledge of Programming Languages. Select all applicable.             object\n",
       "Data Structures and Algorithms knowedge on sacle 1-10                  object\n",
       "Knowledge of ML libraries. Select all options which are applicable.    object\n",
       "Knowledge of Neural Networks on a scale of 1-10                         int32\n",
       "Knowledge of Neural Networks Architectures? Select all applicable.     object\n",
       "Total Experience of Candidate                                           int32\n",
       "Knowledge of DeepLearning Frameworks? Select all applicable.           object\n",
       "new_column                                                             object\n",
       "year                                                                    int64\n",
       "DAY                                                                     int64\n",
       "MONTH                                                                   int64\n",
       "dtype: object"
      ]
     },
     "execution_count": 223,
     "metadata": {},
     "output_type": "execute_result"
    }
   ],
   "source": [
    "df.dtypes"
   ]
  },
  {
   "cell_type": "code",
   "execution_count": 224,
   "metadata": {},
   "outputs": [
    {
     "data": {
      "text/plain": [
       "<matplotlib.axes._subplots.AxesSubplot at 0x21fe60d4080>"
      ]
     },
     "execution_count": 224,
     "metadata": {},
     "output_type": "execute_result"
    },
    {
     "data": {
      "image/png": "[encoded data removed]",
      "text/plain": [
       "<Figure size 432x288 with 1 Axes>"
      ]
     },
     "metadata": {
      "needs_background": "light"
     },
     "output_type": "display_data"
    }
   ],
   "source": [
    "import matplotlib.pyplot as plt\n",
    " #df = pd.DataFrame({'lab':['A', 'B', 'C'], 'val':[10, 30, 20]})\n",
    "ax = df.plot.bar(x='Name of Candidate', y='SQL knowledge on a scale 1-10', rot=0)\n",
    "ax"
   ]
  },
  {
   "cell_type": "code",
   "execution_count": 225,
   "metadata": {},
   "outputs": [
    {
     "data": {
      "text/plain": [
       "array([[<matplotlib.axes._subplots.AxesSubplot object at 0x0000021FE6085D30>]],\n",
       "      dtype=object)"
      ]
     },
     "execution_count": 225,
     "metadata": {},
     "output_type": "execute_result"
    },
    {
     "data": {
      "image/png": "[encoded data removed]",
      "text/plain": [
       "<Figure size 432x288 with 1 Axes>"
      ]
     },
     "metadata": {
      "needs_background": "light"
     },
     "output_type": "display_data"
    }
   ],
   "source": [
    "#plotting the distribution of our variable Total experience of candidate\n",
    "df.hist(column='Total Experience of Candidate', bins=50)"
   ]
  },
  {
   "cell_type": "code",
   "execution_count": 226,
   "metadata": {},
   "outputs": [],
   "source": [
    "#grouping and aggregating the groups based on some conditions\n",
    "candidate_df = df.groupby(['Education'],as_index=False).agg(OrderedDict(\n",
    "                                                   [('Knowledge of Neural Networks on a scale of 1-10','nunique'),\n",
    "                                                    ('Python knowledge on a scale of 1-10','mean'),('Total Experience of Candidate','mean')]))"
   ]
  },
  {
   "cell_type": "code",
   "execution_count": 227,
   "metadata": {},
   "outputs": [
    {
     "data": {
      "text/html": [
       "<div>\n",
       "<style scoped>\n",
       "    .dataframe tbody tr th:only-of-type {\n",
       "        vertical-align: middle;\n",
       "    }\n",
       "\n",
       "    .dataframe tbody tr th {\n",
       "        vertical-align: top;\n",
       "    }\n",
       "\n",
       "    .dataframe thead th {\n",
       "        text-align: right;\n",
       "    }\n",
       "</style>\n",
       "<table border=\"1\" class=\"dataframe\">\n",
       "  <thead>\n",
       "    <tr style=\"text-align: right;\">\n",
       "      <th></th>\n",
       "      <th>Education</th>\n",
       "      <th>Knowledge of Neural Networks on a scale of 1-10</th>\n",
       "      <th>Python knowledge on a scale of 1-10</th>\n",
       "      <th>Total Experience of Candidate</th>\n",
       "    </tr>\n",
       "  </thead>\n",
       "  <tbody>\n",
       "    <tr>\n",
       "      <th>0</th>\n",
       "      <td>College</td>\n",
       "      <td>2</td>\n",
       "      <td>8.5</td>\n",
       "      <td>4.5</td>\n",
       "    </tr>\n",
       "    <tr>\n",
       "      <th>1</th>\n",
       "      <td>Master</td>\n",
       "      <td>1</td>\n",
       "      <td>10.0</td>\n",
       "      <td>4.0</td>\n",
       "    </tr>\n",
       "  </tbody>\n",
       "</table>\n",
       "</div>"
      ],
      "text/plain": [
       "  Education  Knowledge of Neural Networks on a scale of 1-10  \\\n",
       "0   College                                                2   \n",
       "1    Master                                                1   \n",
       "\n",
       "   Python knowledge on a scale of 1-10  Total Experience of Candidate  \n",
       "0                                  8.5                            4.5  \n",
       "1                                 10.0                            4.0  "
      ]
     },
     "execution_count": 227,
     "metadata": {},
     "output_type": "execute_result"
    }
   ],
   "source": [
    "candidate_df"
   ]
  },
  {
   "cell_type": "markdown",
   "metadata": {},
   "source": [
    "Thank You"
   ]
  }
 ],
 "metadata": {
  "kernelspec": {
   "display_name": "Python 3",
   "language": "python",
   "name": "python3"
  },
  "language_info": {
   "codemirror_mode": {
    "name": "ipython",
    "version": 3
   },
   "file_extension": ".py",
   "mimetype": "text/x-python",
   "name": "python",
   "nbconvert_exporter": "python",
   "pygments_lexer": "ipython3",
   "version": "3.7.3"
  }
 },
 "nbformat": 4,
 "nbformat_minor": 2
}
